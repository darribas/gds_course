{
 "cells": [
  {
   "cell_type": "code",
   "execution_count": 1,
   "metadata": {
    "tags": [
     "remove-cell"
    ]
   },
   "outputs": [],
   "source": [
    "from IPython.display import YouTubeVideo, IFrame"
   ]
  },
  {
   "cell_type": "markdown",
   "metadata": {},
   "source": [
    "# Concepts\n",
    "\n",
    "In this block we delve into a few statistical methods designed to characterise spatial patterns of data. How phenomena are distributed over space is at the centre of many important questions. From economic inequality, to the management of disease outbreaks, being able to statistically characterise the spatial pattern is the first step into understanding causes and thinking about solutions in the form of policy.\n",
    "\n",
    "This section is split into a few more chunks than usual, each of them more byte size covering a single concept at a time. Each chunk builds on each other sequentially, so watch them in the order presented here. They are all non-trivial ideas, so focus all your brain power to understand them while tackling each of the sections!"
   ]
  },
  {
   "cell_type": "markdown",
   "metadata": {},
   "source": [
    "## ESDA\n",
    "\n",
    "ESDA stands for **E**xploratory **S**patial **D**ata **A**nalysis, and it is a family of techniques to explore and characterise spatial patterns in data. This clip introduces ESDA conceptually."
   ]
  },
  {
   "cell_type": "markdown",
   "metadata": {},
   "source": [
    "```{sidebar} Slides\n",
    "\n",
    "The slides used in the clip are available at:\n",
    "\n",
    "- <a href=\"../slides/block_F_i.html\"> `[HTML]` </a>\n",
    "- <a href=\"../slides/pdf/block_F_i.pdf\"> `[PDF]` </a>\n",
    "\n",
    "```"
   ]
  },
  {
   "cell_type": "code",
   "execution_count": 2,
   "metadata": {
    "tags": [
     "remove-input"
    ]
   },
   "outputs": [
    {
     "data": {
      "text/html": [
       "\n",
       "        <iframe\n",
       "            width=\"500\"\n",
       "            height=\"300\"\n",
       "            src=\"https://liverpool.instructuremedia.com/embed/23240ed0-24e4-4ea4-907f-b4bbc3a4a95d\"\n",
       "            frameborder=\"0\"\n",
       "            allowfullscreen\n",
       "        ></iframe>\n",
       "        "
      ],
      "text/plain": [
       "<IPython.lib.display.IFrame at 0x7f10dc4f4d10>"
      ]
     },
     "execution_count": 2,
     "metadata": {},
     "output_type": "execute_result"
    }
   ],
   "source": [
    "IFrame(\"https://liverpool.instructuremedia.com/embed/23240ed0-24e4-4ea4-907f-b4bbc3a4a95d\",\n",
    "       width=500,\n",
    "       height=300\n",
    "      )"
   ]
  },
  {
   "cell_type": "markdown",
   "metadata": {},
   "source": [
    "## Spatial autocorrelation\n",
    "\n",
    "In this clip, we define and explain spatial autocorrelation, a core concept to understand what ESDA is about. We also go over the different types and scales at which spatial autocorrelation can be relevant."
   ]
  },
  {
   "cell_type": "markdown",
   "metadata": {},
   "source": [
    "```{sidebar} Slides\n",
    "\n",
    "The slides used in the clip are available at:\n",
    "\n",
    "- <a href=\"../slides/block_F_ii.html\"> `[HTML]` </a>\n",
    "- <a href=\"../slides/pdf/block_F_ii.pdf\"> `[PDF]` </a>\n",
    "\n",
    "```"
   ]
  },
  {
   "cell_type": "code",
   "execution_count": 3,
   "metadata": {
    "tags": [
     "remove-input"
    ]
   },
   "outputs": [
    {
     "data": {
      "text/html": [
       "\n",
       "        <iframe\n",
       "            width=\"500\"\n",
       "            height=\"300\"\n",
       "            src=\"https://liverpool.instructuremedia.com/embed/f95a8c1e-f701-4bd0-adde-093fbfbb4881\"\n",
       "            frameborder=\"0\"\n",
       "            allowfullscreen\n",
       "        ></iframe>\n",
       "        "
      ],
      "text/plain": [
       "<IPython.lib.display.IFrame at 0x7f10dc56e4d0>"
      ]
     },
     "execution_count": 3,
     "metadata": {},
     "output_type": "execute_result"
    }
   ],
   "source": [
    "IFrame(\"https://liverpool.instructuremedia.com/embed/f95a8c1e-f701-4bd0-adde-093fbfbb4881\",\n",
    "       width=500,\n",
    "       height=300\n",
    "      )"
   ]
  },
  {
   "cell_type": "markdown",
   "metadata": {},
   "source": [
    "## Global spatial autocorrelation\n",
    "\n",
    "Here we discuss one of the first expressions to formalise spatial patterns: global spatial autocorrelation."
   ]
  },
  {
   "cell_type": "markdown",
   "metadata": {},
   "source": [
    "```{sidebar} Slides\n",
    "\n",
    "The slides used in the clip are available at:\n",
    "\n",
    "- <a href=\"../slides/block_F_iii.html\"> `[HTML]` </a>\n",
    "- <a href=\"../slides/pdf/block_F_iii.pdf\"> `[PDF]` </a>\n",
    "\n",
    "```"
   ]
  },
  {
   "cell_type": "code",
   "execution_count": 4,
   "metadata": {
    "tags": [
     "remove-input"
    ]
   },
   "outputs": [
    {
     "data": {
      "text/html": [
       "\n",
       "        <iframe\n",
       "            width=\"500\"\n",
       "            height=\"300\"\n",
       "            src=\"https://liverpool.instructuremedia.com/embed/30a5760f-ac09-4d63-aaf8-9d00b937e861\"\n",
       "            frameborder=\"0\"\n",
       "            allowfullscreen\n",
       "        ></iframe>\n",
       "        "
      ],
      "text/plain": [
       "<IPython.lib.display.IFrame at 0x7f10dc56eb10>"
      ]
     },
     "execution_count": 4,
     "metadata": {},
     "output_type": "execute_result"
    }
   ],
   "source": [
    "IFrame(\"https://liverpool.instructuremedia.com/embed/30a5760f-ac09-4d63-aaf8-9d00b937e861\",\n",
    "       width=500,\n",
    "       height=300\n",
    "      )"
   ]
  },
  {
   "cell_type": "markdown",
   "metadata": {},
   "source": [
    "````{margin}\n",
    "```{warning}\n",
    "Give the app a couple of minutes to load, it runs on free infrastructure provided by the amazing [Binder](https://mybinder.org/) project and needs to build every time\n",
    "\n",
    "If you want to run the interactive notebook locally, you can download it from [here](https://raw.githubusercontent.com/darribas/int_sp_auto/master/index.ipynb)\n",
    "```\n",
    "````\n",
    "\n",
    "Once you have seen the clip, check out this interactive online:\n",
    "\n",
    "[<img src=\"https://mybinder.org/badge_logo.svg\" alt=\"Binder\" style=\"margin-left: 0px\" />](http://mybinder.org/repo/darribas/int_sp_auto)\n",
    "\n",
    "The app is an interactive document that allows you to play with a hypothetical geography made up of a regular grid. A synthetic variable (one created artificially) is distributed across the grid following a varying degree of global spatial autocorrelation, which is also visualised using a Moran Plot. Through a slider, you can change the sign (positive/negative) and strength of global spatial autocorrelation and see how that translates on the appearance of the map and how it is also reflected in the shape of the Moran Plot."
   ]
  },
  {
   "cell_type": "markdown",
   "metadata": {},
   "source": [
    "(concepts_F:local)=\n",
    "## Local spatial autocorrelation\n",
    "\n",
    "In this final clip, we discuss a more modern concept that takes the notion of spatial autocorrelation to a finer scale."
   ]
  },
  {
   "cell_type": "markdown",
   "metadata": {},
   "source": [
    "```{sidebar} Slides\n",
    "\n",
    "The slides used in the clip are available at:\n",
    "\n",
    "- <a href=\"../slides/block_F_iv.html\"> `[HTML]` </a>\n",
    "- <a href=\"../slides/pdf/block_F_iv.pdf\"> `[PDF]` </a>\n",
    "\n",
    "```"
   ]
  },
  {
   "cell_type": "code",
   "execution_count": 6,
   "metadata": {
    "tags": [
     "remove-input"
    ]
   },
   "outputs": [
    {
     "data": {
      "text/html": [
       "\n",
       "        <iframe\n",
       "            width=\"500\"\n",
       "            height=\"300\"\n",
       "            src=\"https://liverpool.instructuremedia.com/embed/c2874b3e-c834-4459-a887-b04ecb7018f1\"\n",
       "            frameborder=\"0\"\n",
       "            allowfullscreen\n",
       "        ></iframe>\n",
       "        "
      ],
      "text/plain": [
       "<IPython.lib.display.IFrame at 0x7f10dc519f50>"
      ]
     },
     "execution_count": 6,
     "metadata": {},
     "output_type": "execute_result"
    }
   ],
   "source": [
    "IFrame(\"https://liverpool.instructuremedia.com/embed/c2874b3e-c834-4459-a887-b04ecb7018f1\",\n",
    "       width=500,\n",
    "       height=300\n",
    "      )"
   ]
  },
  {
   "cell_type": "markdown",
   "metadata": {},
   "source": [
    "```{margin}\n",
    "The chapter is available for free [here](https://geographicdata.science/book/notebooks/07_local_autocorrelation.html)\n",
    "```\n",
    "If you like this clip and would like to know a bit more about local spatial autocorrelation, the chapter on local spatial autocorrelation in the GDS book (in progress) {cite}`reyABwolf` is a good \"next step\"."
   ]
  },
  {
   "cell_type": "markdown",
   "metadata": {},
   "source": [
    "## Further readings\n",
    "\n",
    "If this section was of your interest, there is plenty more you can read and explore. The following are good \"next steps\" to delve a bit deeper into exploratory spatial data analysis:\n",
    "\n",
    "```{margin}\n",
    "The chapter is available for free [here](https://geographicdata.science/book/notebooks/06_spatial_autocorrelation.html)\n",
    "```\n",
    "- Spatial autocorrelation chapter on the GDS book (in progress) {cite}`reyABwolf`.\n",
    "- Symanzik's chapter on ESDA in the Handbook of Regional Science {cite}`symanzik2014exploratory` introduces the main concepts behind ESDA\n",
    "- Haining's chapter in the Handbook of Regional Science {cite}`haining2014spatial` is a good historical perspective of the origins and motivations behind most of global and local measures of spatial autocorrelation.\n"
   ]
  }
 ],
 "metadata": {
  "kernelspec": {
   "display_name": "Python 3",
   "language": "python",
   "name": "python3"
  },
  "language_info": {
   "codemirror_mode": {
    "name": "ipython",
    "version": 3
   },
   "file_extension": ".py",
   "mimetype": "text/x-python",
   "name": "python",
   "nbconvert_exporter": "python",
   "pygments_lexer": "ipython3",
   "version": "3.7.8"
  }
 },
 "nbformat": 4,
 "nbformat_minor": 4
}
